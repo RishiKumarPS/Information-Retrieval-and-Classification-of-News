{
  "nbformat": 4,
  "nbformat_minor": 0,
  "metadata": {
    "kernelspec": {
      "display_name": "Python 3",
      "language": "python",
      "name": "python3"
    },
    "language_info": {
      "codemirror_mode": {
        "name": "ipython",
        "version": 3
      },
      "file_extension": ".py",
      "mimetype": "text/x-python",
      "name": "python",
      "nbconvert_exporter": "python",
      "pygments_lexer": "ipython3",
      "version": "3.7.4"
    },
    "colab": {
      "provenance": []
    }
  },
  "cells": [
    {
      "cell_type": "code",
      "metadata": {
        "id": "2Q_Htqy64vz4",
        "outputId": "ec044a45-0ab5-42c4-9a16-45b995282ebf",
        "colab": {
          "base_uri": "https://localhost:8080/",
          "height": 101
        }
      },
      "source": [
        "import requests\n",
        "from bs4 import BeautifulSoup\n",
        "import pandas as pd\n",
        "import numpy as np\n",
        "\n",
        "def build_newsdata(news_url):\n",
        "    news_data = []\n",
        "    for url in news_url:\n",
        "        data = requests.get(url)\n",
        "        soup = BeautifulSoup(data.content, 'html.parser')\n",
        "\n",
        "        news_articles = [{'news_headline': headline.find('span',\n",
        "                                                         attrs={\"itemprop\": \"headline\"}).string,\n",
        "                          'news_article': article.find('div',\n",
        "                                                       attrs={\"itemprop\": \"articleBody\"}).string,}\n",
        "\n",
        "                           for headline, article in\n",
        "                            zip(soup.find_all('div',\n",
        "                                               class_=[\"news-card-title news-right-box\"]),\n",
        "                                 soup.find_all('div',\n",
        "                                               class_=[\"news-card-content news-right-box\"]))\n",
        "                        ]\n",
        "        news_data.extend(news_articles)\n",
        "\n",
        "    df =  pd.DataFrame(news_data)\n",
        "    df = df[['news_headline', 'news_article']]\n",
        "    return df\n",
        "\n",
        "print(\"What type of news would you like: 0)General Latest News? 1)Specific Category?\")\n",
        "question = int(input(\"Answer: \"))\n",
        "if (question==0):\n",
        "\n",
        "    news_url = ['https://inshorts.com/en/read']\n",
        "\n",
        "    news_df = build_newsdata(news_url)\n",
        "    df=pd.DataFrame(news_df.head(20))\n",
        "    df.to_csv(r'news.csv')\n",
        "    print(\"Your latest news is exported to news.csv\")\n",
        "\n",
        "else:\n",
        "\n",
        "    print(\"News Categories: 1)World 2)Sports 3)Science 4)India 5)Technology 6)Entertainment 7)Politics 8)Business 9)Automobile\")\n",
        "\n",
        "    category = int(input(\"Enter a Category Number: \"))\n",
        "    if (category==1):\n",
        "        news_url = ['https://inshorts.com/en/read/world']\n",
        "    elif (category==2):\n",
        "        news_url = ['https://inshorts.com/en/read/sports']\n",
        "    elif (category==3):\n",
        "        news_url = ['https://inshorts.com/en/read/science']\n",
        "    elif (category==4):\n",
        "        news_url = ['https://inshorts.com/en/read/national']\n",
        "    elif (category==5):\n",
        "        news_url = ['https://inshorts.com/en/read/technology']\n",
        "    elif (category==6):\n",
        "        news_url = ['https://inshorts.com/en/read/entertainment']\n",
        "    elif (category==7):\n",
        "        news_url = ['https://inshorts.com/en/read/politics']\n",
        "    elif (category==8):\n",
        "        news_url = ['https://inshorts.com/en/read/business']\n",
        "    elif (category==9):\n",
        "        news_url = ['https://inshorts.com/en/read/automobile']\n",
        "    else:\n",
        "        news_url = ['https://inshorts.com/en/read/miscellaneous']\n",
        "\n",
        "    news_df = build_newsdata(news_url)\n",
        "    df=pd.DataFrame(news_df.head(20))\n",
        "    df.to_csv(r'news.csv')\n",
        "    print(\"Your latest news is exported to news.csv\")"
      ],
      "execution_count": null,
      "outputs": [
        {
          "output_type": "stream",
          "text": [
            "What type of news would you like: 0)General Latest News? 1)Specific Category?\n",
            "Answer: 1\n",
            "News Categories: 1)World 2)Sports 3)Science 4)India 5)Technology 6)Entertainment 7)Politics 8)Business 9)Automobile\n",
            "Enter a Category Number: 5\n",
            "Your latest news is exported to news.csv\n"
          ],
          "name": "stdout"
        }
      ]
    },
    {
      "cell_type": "code",
      "metadata": {
        "id": "6GXADSxq4vz9"
      },
      "source": [],
      "execution_count": null,
      "outputs": []
    },
    {
      "cell_type": "code",
      "metadata": {
        "id": "IuogQ34N4vz_"
      },
      "source": [],
      "execution_count": null,
      "outputs": []
    }
  ]
}